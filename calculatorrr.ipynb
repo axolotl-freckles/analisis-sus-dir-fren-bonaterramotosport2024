{
 "cells": [
  {
   "cell_type": "markdown",
   "metadata": {},
   "source": [
    "# Calculadora de todo\n",
    "\n",
    "Muestra el proceso para usar las librerías y guarda los resultados en un csv."
   ]
  },
  {
   "cell_type": "code",
   "execution_count": 1,
   "metadata": {},
   "outputs": [],
   "source": [
    "import numpy             as np\n",
    "import pandas            as pd\n",
    "import numpy.linalg      as lag\n",
    "import matplotlib.pyplot as plt\n",
    "\n",
    "import vector            as vec\n",
    "import fourbars          as fba\n",
    "import fourbarforce      as fbf\n",
    "\n",
    "from matplotlib import ticker"
   ]
  },
  {
   "cell_type": "markdown",
   "metadata": {},
   "source": [
    "## Cálculos de movimiento de suspensión"
   ]
  },
  {
   "cell_type": "code",
   "execution_count": 2,
   "metadata": {},
   "outputs": [
    {
     "name": "stdout",
     "output_type": "stream",
     "text": [
      "[ 0] calculando \"FRONT_L\"\n",
      "\tl: [208.75 310.05 220.   263.67]\n",
      "\tMIN:-184.69° MAX:-174.69°\n",
      "\tPasos: 20\n",
      "\tGUARDADO EXITOSAMENTE EN: \"./resultados/FRONT_L.csv\"\n",
      "\n",
      "[ 1] calculando \"REAR_L\"\n",
      "\tl: [177.7  308.19 220.   259.3 ]\n",
      "\tMIN: 175.00° MAX: 185.00°\n",
      "\tPasos: 20\n",
      "\tGUARDADO EXITOSAMENTE EN: \"./resultados/REAR_L.csv\"\n",
      "\n"
     ]
    }
   ],
   "source": [
    "RANGE   = np.deg2rad(5.0)\n",
    "STEP    = np.deg2rad(0.5)\n",
    "# N_STEPS = 2*int(RANGE/np.deg2rad(0.5))\n",
    "\n",
    "titulos = [\n",
    "\t'theta_1',\n",
    "\t'theta_2',\n",
    "\t'theta_3',\n",
    "\t'theta_4'\n",
    "]\n",
    "\n",
    "directorio_resultados = './resultados'\n",
    "directorio_parametros = './parámetros'\n",
    "\n",
    "geo_data = pd.read_csv(directorio_parametros+'/SUS_GEO.csv')\n",
    "# print(geo_data.info(), end='\\n\\n')\n",
    "\n",
    "for i, name in enumerate(geo_data['name']):\n",
    "\ttheta1 = geo_data['t1'][i]\n",
    "\ttheta2 = geo_data['t2'][i]\n",
    "\tl      = np.array([\n",
    "\t\tgeo_data['l1'][i],\n",
    "\t\tgeo_data['l2'][i],\n",
    "\t\tgeo_data['l3'][i],\n",
    "\t\tgeo_data['l4'][i],\n",
    "\t])\n",
    "\tMAX_ANGLE = theta2 + RANGE\n",
    "\tMIN_ANGLE = theta2 - RANGE\n",
    "\ttheta2s = np.arange(MIN_ANGLE, MAX_ANGLE, STEP)\n",
    "\n",
    "\tprint(f'[{i:2d}] calculando \"{name}\"')\n",
    "\tprint(f'\\tl: {l}')\n",
    "\tprint(f'\\tMIN:{np.rad2deg(MIN_ANGLE):7.2f}° MAX:{np.rad2deg(MAX_ANGLE):7.2f}°')\n",
    "\tprint(f'\\tPasos: {theta2s.shape[0]}')\n",
    "\n",
    "\ttheta = fba.get_abs_theta(l, theta2s, theta1)\n",
    "\tresult_dict = {titulos[i]: theta[i] for i in range(4)}\n",
    "\tresult_df   = pd.DataFrame(result_dict)\n",
    "\n",
    "\tresult_dir = f'{directorio_resultados}/{name}.csv'\n",
    "\tresult_df.to_csv(result_dir)\n",
    "\tprint(f'\\tGUARDADO EXITOSAMENTE EN: \"{result_dir}\"')\n",
    "\tprint()\n"
   ]
  }
 ],
 "metadata": {
  "kernelspec": {
   "display_name": "Python 3",
   "language": "python",
   "name": "python3"
  },
  "language_info": {
   "codemirror_mode": {
    "name": "ipython",
    "version": 3
   },
   "file_extension": ".py",
   "mimetype": "text/x-python",
   "name": "python",
   "nbconvert_exporter": "python",
   "pygments_lexer": "ipython3",
   "version": "3.11.7"
  }
 },
 "nbformat": 4,
 "nbformat_minor": 2
}
