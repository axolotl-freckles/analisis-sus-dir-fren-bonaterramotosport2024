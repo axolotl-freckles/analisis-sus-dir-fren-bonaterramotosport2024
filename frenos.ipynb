{
 "cells": [
  {
   "cell_type": "markdown",
   "metadata": {},
   "source": [
    "# Cálculos frenos\n",
    "\n",
    "Fórmula general para unir pedal y frenos:\n",
    "\n",
    "$$ F_d\\frac{R_n}{R_c} = \\mu \\frac{F_m}{A_m} \\sum_{i=1}^{n}{A_{si}} $$\n",
    "\n",
    "Fórmula para calcular la fuerza en el cilindro maestro asumiendo que las áreas de los cilindros esclavos es la misma:\n",
    "\n",
    "$$ F_m = \\frac{F_d R_n A_m}{R_c A_s n \\mu} $$"
   ]
  },
  {
   "cell_type": "code",
   "execution_count": 1,
   "metadata": {},
   "outputs": [],
   "source": [
    "import numpy             as np\n",
    "import matplotlib.pyplot as plt"
   ]
  },
  {
   "cell_type": "code",
   "execution_count": 2,
   "metadata": {},
   "outputs": [],
   "source": [
    "Am = np.pi * (4.3e-3)**2\n",
    "As = np.pi * (14.224e-3)**2\n",
    "n  = 8\n",
    "mu = np.array([0.25,0.65])\n",
    "Rn = 0.254\n",
    "Rc = 0.095\n",
    "Fd = 3309.74"
   ]
  },
  {
   "cell_type": "code",
   "execution_count": 3,
   "metadata": {},
   "outputs": [
    {
     "name": "stdout",
     "output_type": "stream",
     "text": [
      "[404.35928342 155.52280132]\n"
     ]
    }
   ],
   "source": [
    "master_cil_force = (Fd*Rn*Am)/(Rc*As*n*mu)\n",
    "\n",
    "print(master_cil_force)"
   ]
  }
 ],
 "metadata": {
  "kernelspec": {
   "display_name": "Python 3",
   "language": "python",
   "name": "python3"
  },
  "language_info": {
   "codemirror_mode": {
    "name": "ipython",
    "version": 3
   },
   "file_extension": ".py",
   "mimetype": "text/x-python",
   "name": "python",
   "nbconvert_exporter": "python",
   "pygments_lexer": "ipython3",
   "version": "3.11.7"
  }
 },
 "nbformat": 4,
 "nbformat_minor": 2
}
