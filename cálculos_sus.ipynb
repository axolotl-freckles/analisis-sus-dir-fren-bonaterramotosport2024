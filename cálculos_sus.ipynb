{
 "cells": [
  {
   "cell_type": "markdown",
   "metadata": {},
   "source": [
    "# Cálculos de aproximación de esfuerzos en la suspensión"
   ]
  },
  {
   "cell_type": "markdown",
   "metadata": {},
   "source": [
    "# Cálculos de esfuerzos en suspensión"
   ]
  },
  {
   "cell_type": "code",
   "execution_count": 1,
   "metadata": {},
   "outputs": [],
   "source": [
    "import numpy             as np\n",
    "import matplotlib.pyplot as plt"
   ]
  },
  {
   "cell_type": "markdown",
   "metadata": {},
   "source": [
    "## Planteamiento de torques\n",
    "\n",
    "Se definirá la fuerza de tracción que produce el neumático como el vector $ C $.\n",
    "$ C $ se divide en sus dos componentes ortogonales y se definirá $ N $ como la componente normal de la interacción y $ G $ como la tracción lateral.\n",
    "\n",
    "De los dos nodos que representan los extremos de la mangueta parten las fuerzas $ A $ y $ B $. Estas se usarán para calcular los esfuerzos en la malla de la suspensión.\n",
    "\n",
    "Se tomará el nodo correspondiente al enlace inferior de la suspensión en el chasis como el origen del análisis.\n",
    "\n",
    "Partiendo de este origen, los vectores $A$ y $B$ se obtienen de la siguiente manera:\n",
    "\n",
    "$$ A = \\begin{bmatrix} G\\frac{b_y-c_y}{a_y-b_y} \\\\ N\\frac{b_x-c_x}{a_x-b_x} \\end{bmatrix} $$\n",
    "$$ B = \\begin{bmatrix} G\\frac{a_y-c_y}{b_y-a_y} \\\\ N\\frac{a_x-c_x}{b_x-a_x} \\end{bmatrix} $$"
   ]
  },
  {
   "cell_type": "code",
   "execution_count": 2,
   "metadata": {},
   "outputs": [],
   "source": [
    "dist_to_C = np.array([-399.18, -158.58])\n",
    "dist_to_A = np.array([-329.48,  216.58])\n",
    "dist_to_B = np.array([-355.53,   -1.87])\n",
    "dist_to_E = np.array([- 18.80,  207.03])\n",
    "\n",
    "G         = np.array([   0.00,  441.30])\n",
    "\n",
    "def get_A_B(grip, dist_A, dist_B, dist_C):\n",
    "\tA = np.array([\n",
    "\t\tgrip[0]*(dist_B[1]-dist_C[1])/(dist_A[1]-dist_B[1]),\n",
    "\t\tgrip[1]*(dist_B[0]-dist_C[0])/(dist_A[0]-dist_B[0])\n",
    "\t])\n",
    "\tB = np.array([\n",
    "\t\tgrip[0]*(dist_A[1]-dist_C[1])/(dist_B[1]-dist_A[1]),\n",
    "\t\tgrip[1]*(dist_A[0]-dist_C[0])/(dist_B[0]-dist_A[0])\n",
    "\t])\n",
    "\n",
    "\treturn A, B\n",
    "\n",
    "def angle_vect(vec):\n",
    "\treturn np.arctan2(vec[1], vec[0])\n",
    "\n",
    "def get_tension(force_a, force_b, axis_vect):\n",
    "\taxis_angle = angle_vect(axis_vect)\n",
    "\tnorm_a = np.linalg.norm(force_a)\n",
    "\tnorm_b = np.linalg.norm(force_b)\n",
    "\n",
    "\tangle_a = angle_vect(force_a)\n",
    "\tangle_b = angle_vect(force_b)\n",
    "\n",
    "\treturn norm_b*np.cos(angle_b-axis_angle) - norm_a*np.cos(angle_a-axis_angle)\n",
    "\n",
    "def to_vect(magnitude, angle):\n",
    "\treturn np.array([\n",
    "\t\tmagnitude*np.cos(angle),\n",
    "\t\tmagnitude*np.sin(angle)\n",
    "\t])"
   ]
  },
  {
   "cell_type": "markdown",
   "metadata": {},
   "source": [
    "## Nodo libre\n",
    "\n",
    "El nodo libre es aquel que tiene enlazado el A-arm que no posee ni push-rod ni pull-rod, por lo que solo experimenta las fuerzas de tensión/compresión de las barras.\n",
    "\n",
    "En este caso tenemos que $ \\alpha + \\beta = A $.\n",
    "\n",
    "Para obtener la magnitud de los vectores tenemos:\n",
    "$$ [\\beta] = [A]\\frac{sin[ang(A)]-cos[ang(A)]tg[ang(\\alpha)]}\n",
    "                     {sin[ang(\\beta)]-cos[ang(\\beta)]tg[ang(\\alpha)]} $$\n",
    "$$ [\\alpha] =  \\frac{[A]cos[ang(A)]-[\\beta]cos[ang(\\beta)]}{cos[ang(\\alpha)]} = \\frac{[A]sin[angle(A)]-[\\beta]sin[ang(\\beta)]}{sin[ang(\\alpha)]} $$"
   ]
  },
  {
   "cell_type": "code",
   "execution_count": 3,
   "metadata": {},
   "outputs": [
    {
     "name": "stdout",
     "output_type": "stream",
     "text": [
      "====Primary node force vectors====\n",
      "A: [  0.         739.45278311]\n",
      "B: [   -0.         -1180.75278311]\n",
      "===========Beam vectors===========\n",
      "Alpha: [ -26.05 -218.45]\n",
      "Betha: [310.68  -9.55]\n",
      "=====Upper beam force vectors=====\n",
      "Alpha: [-739.1036806   762.17210894]\n",
      "Betha: [739.1036806  -22.71932583]\n",
      "======Upper beam force norms======\n",
      "Betha: 739.4527831094069\n"
     ]
    }
   ],
   "source": [
    "A, B = get_A_B(G, dist_to_A, dist_to_B, dist_to_C)\n",
    "\n",
    "alpha_beam = dist_to_B - dist_to_A\n",
    "betha_beam = dist_to_E - dist_to_A\n",
    "\n",
    "betha_norm = np.linalg.norm(A) * (\n",
    "\t(np.sin(angle_vect(A))) - np.cos(angle_vect(A))*np.tan(angle_vect(alpha_beam)) /\n",
    "\t(np.sin(angle_vect(betha_beam) - np.cos(angle_vect(betha_beam)))*np.tan(angle_vect(alpha_beam)))\n",
    ")\n",
    "betha = to_vect(betha_norm, angle_vect(dist_to_E-dist_to_A))\n",
    "\n",
    "alpha = A - betha\n",
    "\n",
    "# alpha_tension = get_tension(A, B, dist_to_A-dist_to_B)\n",
    "# alpha         = to_vect(alpha_tension, angle_vect(dist_to_A-dist_to_B))\n",
    "\n",
    "print( '====Primary node force vectors====')\n",
    "print(f'A: {A}')\n",
    "print(f'B: {B}')\n",
    "# print(f'{G*np.flip(dist_to_C) + A*np.flip(dist_to_A) + B*np.flip(dist_to_B)}')\n",
    "print( '===========Beam vectors===========')\n",
    "print(f'Alpha: {alpha_beam}')\n",
    "print(f'Betha: {betha_beam}')\n",
    "print( '=====Upper beam force vectors=====')\n",
    "print(f'Alpha: {alpha}')\n",
    "print(f'Betha: {betha}')\n",
    "print( '======Upper beam force norms======')\n",
    "print(f'Betha: {betha_norm}')\n",
    "# print(alpha_tension)"
   ]
  },
  {
   "cell_type": "code",
   "execution_count": 4,
   "metadata": {},
   "outputs": [
    {
     "name": "stdout",
     "output_type": "stream",
     "text": [
      "==========Betha==========\n",
      "[739.1036806  -22.71932583]\n",
      "[310.68  -9.55]\n",
      "178.2393380569692\n",
      "178.2393380569692\n",
      "==========Alpha==========\n",
      "[-739.1036806   762.17210894]\n",
      "[ -26.05 -218.45]\n",
      "134.1196690284846\n",
      "83.19963418622574\n",
      "FUCK!\n"
     ]
    }
   ],
   "source": [
    "# betha_ = A - alpha\n",
    "\n",
    "angle_by_force = angle_vect(betha)      % (np.pi)\n",
    "angle_by_geome = angle_vect(betha_beam) % (np.pi)\n",
    "\n",
    "print('==========Betha==========')\n",
    "print(betha)\n",
    "print(betha_beam)\n",
    "print(np.degrees(angle_by_force))\n",
    "print(np.degrees(angle_by_geome))\n",
    "if abs(angle_by_force - angle_by_geome) > 1e-4:\n",
    "\tprint('FUCK!')\n",
    "\n",
    "angle_by_force = angle_vect(alpha)      % (np.pi)\n",
    "angle_by_geome = angle_vect(alpha_beam) % (np.pi)\n",
    "\n",
    "print('==========Alpha==========')\n",
    "print(alpha)\n",
    "print(alpha_beam)\n",
    "print(np.degrees(angle_by_force))\n",
    "print(np.degrees(angle_by_geome))\n",
    "if abs(angle_by_force - angle_by_geome) > 1e-4:\n",
    "\tprint('FUCK!')\n"
   ]
  }
 ],
 "metadata": {
  "kernelspec": {
   "display_name": "Python 3",
   "language": "python",
   "name": "python3"
  },
  "language_info": {
   "codemirror_mode": {
    "name": "ipython",
    "version": 3
   },
   "file_extension": ".py",
   "mimetype": "text/x-python",
   "name": "python",
   "nbconvert_exporter": "python",
   "pygments_lexer": "ipython3",
   "version": "3.11.7"
  }
 },
 "nbformat": 4,
 "nbformat_minor": 2
}
