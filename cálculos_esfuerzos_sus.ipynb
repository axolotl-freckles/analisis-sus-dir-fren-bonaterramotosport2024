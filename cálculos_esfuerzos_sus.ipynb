{
 "cells": [
  {
   "cell_type": "markdown",
   "metadata": {},
   "source": [
    "# Cálculos de esfuerzos en los componentes de suspensión\n",
    "\n",
    "_Robert L. Norton, \"Diseño de Maquinaria\" 3ra ed. Cap. 11, pg. 489-508._\n",
    "\n",
    "Los cálculos de suspensión son hechos aproximando la geometría tridimensional de los doble A-arms a una proyección de un mecanismo de 4 barras en un plano.\n",
    "\n",
    "En esta proyección, los elementos que se consideran son:\n",
    "\n",
    "- La estructura del chasis, simplificado como el elemento 1.\n",
    "- El A-arm inferior, denominado como elemento 2.\n",
    "- El conjunto de mangueta, masa y llanta, denominado como elemento 3.\n",
    "- El A-arm superior, denominado como elemento 3.\n",
    "\n",
    "Por cada elemento (exepto el elemento 1) se consideran las siguientes cosas:\n",
    "\n",
    "- Vectores de posición que van desde el centro de masa del elemento hasta los enlaces, denominados con $R$.\n",
    "- Las fuerzas de reacción en los enlaces, denominados con $F$.\n",
    "- Fuerzas y torques externos.\n",
    "- Aceleración lineal en el centro de masa o, en su defecto, la fuerza reaccionaria del elemento y su masa.\n",
    "- Aceleración angular o fuerza torcional en el elemento. Para esta última se requiere el momento de inercia del elemento."
   ]
  },
  {
   "cell_type": "markdown",
   "metadata": {},
   "source": [
    "## Fórmulas\n",
    "\n",
    "De manera general, los sistemas de _n_ barras se resuelven con sistemas de ecuaciones simultáneas que describen todas las fuerzas que actúan sobre cada uno de los elementos.\n",
    "La siguiente fórmula es la fórmula general para resolverlos:\n",
    "\n",
    "$$F_{ij}+F_{jk}+\\sum{F_{extj}}=m_ja_{Gj}$$\n",
    "\n",
    "$$(R_{ij}\\times F_{ij})+(R_{jk}\\times F_{jk})+\\sum{T_{extj}}+\\sum{(R_{extj}\\times F_{extj})}$$\n",
    "\n",
    "$$j = 2, 3, ..., n | i=j-1 | k=j+1;j\\neq n| si: j=n, k=1$$\n",
    "\n",
    "Debido a la ley acción-reacción de Newton, las fuerzas en los enlaces $F_{ij}$ cumplen la siguiente igualdad:\n",
    "\n",
    "$$F_{ij}=-F_{ji}$$"
   ]
  },
  {
   "cell_type": "markdown",
   "metadata": {},
   "source": [
    "## Planteamiento\n",
    "\n",
    "El elemento correspondiente a la mangueta es el que recibe la fuerza externa de tracción.\n",
    "En este elemento, la fuerza de tracción será denominada $F_t$ y la distancia hacia su fuente será $R_t$.\n",
    "Las fuerzas del push bar serán denominadas $T_b$ y $F_b$.\n",
    "\n",
    "### Álgebraico\n",
    "\n",
    "Teniendo en cuenta nuestra geometría de suspensión y asumiendo que la estabilización principal va a ser dada por una push-bar en el miembro inferior, tenemos las siguientes equaciones que nos describen el sistema:\n",
    "\n",
    "En el elemento 2:\n",
    "\n",
    "$$F_{12x} + F_{32x} + F_{bx} = m_2a_{2Gx}$$\n",
    "$$F_{12y} + F_{32y} + F_{by} = m_2a_{2Gy}$$\n",
    "$$T_b + (R_{12x}F_{12y}-R_{12y}F_{12x}) + (R_{32x}F_{32y}-R_{32y}F_{32x})=I_{G2}\\alpha_2$$\n",
    "\n",
    "En el elemento 3:\n",
    "\n",
    "$$F_{43x} - F_{32x} + F_{tx} = m_3a_{G3x}$$\n",
    "$$F_{43y} - F_{32y} + F_{ty} = m_3a_{G3y}$$\n",
    "$$(R_{43x}F_{43y}-R_{43y}F_{43x}) - (R_{23x}F_{32y}-R_{23y}F_{32x}) + (R_{tx}F_{ty}-R_{ty}F_{tx})=I_{G3}\\alpha_3$$\n",
    "\n",
    "En el elemento 4:\n",
    "\n",
    "$$F_{14x} - F_{43x} = m_4a_{G4x}$$\n",
    "$$F_{14y} - F_{43y} = m_4a_{G4y}$$\n",
    "$$(R_{14x}F_{14y}-R_{14y}F_{14x}) - (R_{34x}F_{43y}-R_{34y}F_{43x}) = I_{G4}\\alpha_4$$\n",
    "\n",
    "### Matricial\n",
    "\n",
    "Como tenemos un sistema de ecuaciones, podemos plantearlo como una equación matricial del tipo $A\\times B=C$ que puede resolverse con métodos como Newton-Raphson y eliminación Gaussiana.\n",
    "\n",
    "En esta ecuación, el vector $B$ contiene todas las incóginitas del sistema, la matriz $A$ contine los coeficientes de las incógnitas o información geométrica del mecanismo y, finalmente, el vector $C$ se encuentra toda la información pertinente al equilibrio del sistema, como las aceleraciones resultantes.\n",
    "\n",
    "En nuestro caso, la ecuación matricial luce así:\n",
    "\n",
    "$$\n",
    "\\begin{bmatrix}\n",
    "\t       1 &        0 &        1 &        0 &        0 &        0 &        0 &        0 &        0 \\\\\n",
    "\t       0 &        1 &        0 &        1 &        0 &        0 &        0 &        0 &        0 \\\\\n",
    "\t-R_{12y} &  R_{12x} & -R_{32y} &  R_{32x} &        0 &        0 &        0 &        0 &        1 \\\\\n",
    "\t       0 &        0 &       -1 &        0 &        1 &        0 &        0 &        0 &        0 \\\\\n",
    "\t       0 &        0 &        0 &       -1 &        0 &        1 &        0 &        0 &        0 \\\\\n",
    "\t       0 &        0 &  R_{23y} & -R_{23x} & -R_{43y} &  R_{43x} &        0 &        0 &        0 \\\\\n",
    "\t       0 &        0 &        0 &        0 &       -1 &        0 &        1 &        0 &        0 \\\\\n",
    "\t       0 &        0 &        0 &        0 &        0 &       -1 &        0 &        1 &        0 \\\\\n",
    "\t       0 &        0 &        0 &        0 &  R_{34y} & -R_{34x} & -R_{14y} &  R_{14x} &        0\n",
    "\\end{bmatrix}\n",
    "\\times\n",
    "\\begin{bmatrix}\n",
    "\tF_{12x} \\\\ F_{12y} \\\\ F_{32x} \\\\ F_{32y} \\\\ F_{43x} \\\\ F_{43y} \\\\ F_{14x} \\\\ F_{14y} \\\\      T_b\n",
    "\\end{bmatrix}\n",
    "=\n",
    "\\begin{bmatrix}\n",
    "\tm_2a_{G2x} - F_{bx}                         \\\\\n",
    "\tm_2a_{G2y} - F_{by}                         \\\\\n",
    "\tI_{G2}\\alpha_2                              \\\\\n",
    "\tm_3a_{G3x} - F_{tx}                         \\\\\n",
    "\tm_3a_{G3y} - F_{ty}                         \\\\\n",
    "\tI_{G3}\\alpha_3 - R_{tx}F_{ty} + R_{ty}F_{tx}\\\\\n",
    "\tm_4a_{G4x}                                  \\\\\n",
    "\tm_4a_{G4y}                                  \\\\\n",
    "\tI_{G4}\\alpha_4\n",
    "\\end{bmatrix}\n",
    "$$"
   ]
  },
  {
   "cell_type": "code",
   "execution_count": 1,
   "metadata": {},
   "outputs": [],
   "source": [
    "import numpy             as np\n",
    "import numpy.linalg      as lag\n",
    "import matplotlib.pyplot as plt\n",
    "import vector            as vec\n",
    "import fourbars          as fba\n",
    "\n",
    "from matplotlib import ticker\n",
    "\n",
    "# numpy.linalg.solve para resolver la ecuación matricial"
   ]
  },
  {
   "cell_type": "code",
   "execution_count": 2,
   "metadata": {},
   "outputs": [],
   "source": [
    "def to_coordinates(l:np.ndarray, theta:np.ndarray):\n",
    "\trel_coordinates = vec.to_vect(l, theta)\n",
    "\tabs_coordinates = np.cumsum(rel_coordinates, axis=1)\n",
    "\treturn rel_coordinates, abs_coordinates\n",
    "\n",
    "def get_middle_com(rel_coordinates:np.ndarray):\n",
    "\tcom_prev = np.zeros_like(rel_coordinates)\n",
    "\tcom_next = np.zeros_like(rel_coordinates)\n",
    "\n",
    "\tcom_prev = -rel_coordinates / 2\n",
    "\tcom_next =  rel_coordinates / 2\n",
    "\n",
    "\treturn com_prev, com_next\n",
    "\n",
    "def sum_rel_vect_to_abs(\n",
    "\t\ttheta:np.ndarray,\n",
    "\t\tvec_magnitude:float,\n",
    "\t\tvec_rel_angle:float,\n",
    "\t\tbase_element:int,\n",
    "\t\tabs_coordinates:np.ndarray=None\n",
    "):\n",
    "\trel_offset = vec.to_vect(vec_magnitude, theta[base_element] + vec_rel_angle)\n",
    "\n",
    "\tif abs_coordinates is None:\n",
    "\t\treturn rel_offset\n",
    "\t\n",
    "\tabs_offset = abs_coordinates[:, base_element-1] + rel_offset\n",
    "\n",
    "\treturn rel_offset, abs_offset\n",
    "\n",
    "def get_geo_mtx(com_r:np.ndarray, torque_element:int=1) -> np.ndarray:\n",
    "\tcom_prv = com_r[0]\n",
    "\tcom_nxt = com_r[1]\n",
    "\tgeo_mtx = np.array([\n",
    "\t\t[          1.0,          0.0,           1.0,           0.0,           0.0,           0.0,           0.0,           0.0, 0.0],\n",
    "\t\t[          0.0,          1.0,           0.0,           1.0,           0.0,           0.0,           0.0,           0.0, 0.0],\n",
    "\t\t[-com_prv[1,1], com_prv[0,1], -com_nxt[1,1],  com_nxt[0,1],           0.0,           0.0,           0.0,           0.0, 0.0],\n",
    "\t\t[          0.0,          0.0,          -1.0,           0.0,           1.0,           0.0,           0.0,           0.0, 0.0],\n",
    "\t\t[          0.0,          0.0,           0.0,          -1.0,           0.0,           1.0,           0.0,           0.0, 0.0],\n",
    "\t\t[          0.0,          0.0,  com_prv[1,2], -com_prv[0,2], -com_nxt[1,2],  com_nxt[0,2],           0.0,           0.0, 0.0],\n",
    "\t\t[          0.0,          0.0,           0.0,           0.0,          -1.0,           0.0,           1.0,           0.0, 0.0],\n",
    "\t\t[          0.0,          0.0,           0.0,           0.0,           0.0,          -1.0,           0.0,           1.0, 0.0],\n",
    "\t\t[          0.0,          0.0,           0.0,           0.0, -com_prv[1,3], -com_prv[0,3], -com_nxt[1,3], com_nxt[0,3], 0.0]\n",
    "\t])\n",
    "\n",
    "\tif torque_element is not None or torque_element != 0:\n",
    "\t\tgeo_mtx[torque_element*3 - 1, -1] = 1.0\n",
    "\n",
    "\treturn geo_mtx"
   ]
  },
  {
   "cell_type": "markdown",
   "metadata": {},
   "source": [
    "## Parámetros"
   ]
  },
  {
   "cell_type": "code",
   "execution_count": 3,
   "metadata": {},
   "outputs": [],
   "source": [
    "# VALORES USADOS PARA CONSUGUIR LOS ÁNGULOS INICIALES\n",
    "# DE LOS ELEMENTOS 1 Y 2 DE LA SUSPENSIÓN.\n",
    "dist_to_B = np.array([-310.04, -  1.69])\n",
    "dist_to_E = np.array([  18.95, -207.89])\n",
    "\n",
    "# LONGITUDES DE LOS ELEMENTOS DE SUSPENSIÓN\n",
    "L1 = 208.75\n",
    "L2 = 310.05\n",
    "L3 = 220.00\n",
    "L4 = 263.67\n",
    "l  = np.array([L1, L2, L3, L4])\n",
    "\n",
    "# PARÁMETROS INICIALES DEL VECTOR HACIA LA TRACCIÓN DEL ELEMENTO 3\n",
    "# rest_traction_offset   = dist_to_C - (rel_coordinates[:, 0] + rel_coordinates[:, 1])\n",
    "# wheel_offset_magnitude = lag.norm(rest_traction_offset)\n",
    "# wheel_offset_angle     =  vec.angle_vect(rest_traction_offset) - theta[2]\n",
    "# dist_to_C              = rel_coordinates[:, 0] + np.array([-399.18, -158.58])\n",
    "rest_traction_offset   = np.array([ -89.13460606, -156.8899706 ])\n",
    "# DESDE LA UNIÓN DEL ELEMENTO 2 CON EL 3\n",
    "wheel_offset_magnitude = 180.44234778055866\n",
    "wheel_offset_angle     = -3.5326093089517907 #rads\n",
    "\n",
    "# DATOS DEL CENTRO DE MASA DEL ELEMENTO 3\n",
    "# DESDE LA UNIÓN DEL ELEMENTO 2 CON EL 3\n",
    "e3_com_magnitude = 128.17212\n",
    "e3_com_rel_angle = 0.3902843081 #rads\n",
    "\n",
    "# DATOS DE LA FUERZA DE TRACCIÓN Y PESO DE LOS ELEMENTOS\n",
    "traction = np.array([0.0, 441.3])\n",
    "gravity  = np.array([0.0, -9.81])\n",
    "masses   = np.array([ # en kg\n",
    "\t0.0,                 # Chasis, no se considera\n",
    "\t1.0,                 # A-arm inferior\n",
    "\t4.220+2.770+1.38709, # Mangueta, frenos y llanta\n",
    "\t1.0                  # A-arm superior\n",
    "])"
   ]
  },
  {
   "cell_type": "code",
   "execution_count": 4,
   "metadata": {},
   "outputs": [
    {
     "name": "stdout",
     "output_type": "stream",
     "text": [
      "Prueba de 4 barras:\n",
      "   [ -84.79165554 -179.68768898   82.80120257   -1.8881826 ] Esperado\n",
      "   [ -84.79165554 -179.68768898   82.80120257   -1.8881826 ]\n",
      "Prueba ángulos internos\n",
      "   [85.10396656 82.48889155 95.31061484 97.09652705] Esperado\n",
      "   [85.10396656 82.48889155 95.31061484 97.09652705]\n"
     ]
    }
   ],
   "source": [
    "theta1 = vec.angle_vect(dist_to_E)\n",
    "theta2 = vec.angle_vect(dist_to_B)# + np.deg2rad(- 10)\n",
    "\n",
    "theta = fba.get_abs_theta(l, theta2, theta1)\n",
    "alpha = fba.get_internal_angles(theta)\n",
    "\n",
    "print('Prueba de 4 barras:')\n",
    "print(f'   [ -84.79165554 -179.68768898   82.80120257   -1.8881826 ] Esperado')\n",
    "print(f'   {np.rad2deg(theta)}')\n",
    "print('Prueba ángulos internos')\n",
    "print(f'   [85.10396656 82.48889155 95.31061484 97.09652705] Esperado')\n",
    "print(f'   {np.rad2deg(alpha)}')"
   ]
  },
  {
   "cell_type": "code",
   "execution_count": 5,
   "metadata": {},
   "outputs": [
    {
     "name": "stdout",
     "output_type": "stream",
     "text": [
      "[-380.23017223 -366.4681106 ]\n"
     ]
    }
   ],
   "source": [
    "# wheel_offset    = vec.to_vect(wheel_offset_magnitude, theta[2] + wheel_offset_angle)\n",
    "# traction_offset = abs_coordinates[:, 1] + wheel_offset\n",
    "\n",
    "rel_coordinates, abs_coordinates = to_coordinates(l, theta)\n",
    "wheel_offset,    traction_offset = sum_rel_vect_to_abs(\n",
    "\ttheta,\n",
    "\twheel_offset_magnitude,\n",
    "\twheel_offset_angle,\n",
    "\t2,\n",
    "\tabs_coordinates=abs_coordinates\n",
    ")\n",
    "\n",
    "print(traction_offset)"
   ]
  },
  {
   "cell_type": "code",
   "execution_count": 6,
   "metadata": {},
   "outputs": [
    {
     "name": "stdout",
     "output_type": "stream",
     "text": [
      "[-324.62069566  -85.8681645 ]\n",
      "[-380.23017223 -366.4681106 ]\n"
     ]
    }
   ],
   "source": [
    "# e3_com_abs_angle = theta[2] + e3_com_rel_angle\n",
    "# e3_com_rel_vect  = vec.to_vect(e3_com_magnitude, e3_com_abs_angle)\n",
    "# e3_com_abs_vect  = abs_coordinates[:, 1] + e3_com_rel_vect\n",
    "\n",
    "e3_com_rel_vect, e3_com_abs_vect = sum_rel_vect_to_abs(\n",
    "\ttheta,\n",
    "\te3_com_magnitude,\n",
    "\te3_com_rel_angle,\n",
    "\t2,\n",
    "\tabs_coordinates=abs_coordinates\n",
    ")\n",
    "\n",
    "# print('[-324.62069566  -85.8681645 ]')\n",
    "print(e3_com_abs_vect)\n",
    "# print('[-380.23017223 -366.4681106 ]')\n",
    "print(traction_offset)"
   ]
  },
  {
   "cell_type": "code",
   "execution_count": 7,
   "metadata": {},
   "outputs": [
    {
     "name": "stdout",
     "output_type": "stream",
     "text": [
      "[[  -9.47491389  155.02269697   33.5251295  -131.76341795]\n",
      " [ 103.9440553     0.8450147  -123.7099755     4.34383649]]\n",
      "[[   9.47491389 -155.02269697   61.09385976  131.76341795]\n",
      " [-103.9440553    -0.8450147    94.55583747   -4.34383649]]\n",
      "\n",
      "[ -55.60947657 -280.5999461 ]\n"
     ]
    }
   ],
   "source": [
    "com_prv, com_nxt = get_middle_com(rel_coordinates)\n",
    "\n",
    "com_prv[:, 2] = abs_coordinates[:, 1] - e3_com_abs_vect\n",
    "com_nxt[:, 2] = abs_coordinates[:, 2] - e3_com_abs_vect\n",
    "\n",
    "e3com_traction = traction_offset - e3_com_abs_vect\n",
    "\n",
    "# print(rel_coordinates)\n",
    "print(com_prv)\n",
    "print(com_nxt)\n",
    "print()\n",
    "print(e3com_traction)"
   ]
  },
  {
   "cell_type": "code",
   "execution_count": 8,
   "metadata": {},
   "outputs": [
    {
     "data": {
      "image/png": "[encoded data removed]",
      "text/plain": [
       "<Figure size 640x480 with 1 Axes>"
      ]
     },
     "metadata": {},
     "output_type": "display_data"
    }
   ],
   "source": [
    "fig = plt.figure()\n",
    "ax  = fig.add_subplot(1, 1, 1)\n",
    "\n",
    "plt.title('Posición de los miembros de suspensión, centros de masa y origen de tracción')\n",
    "plt.ylabel('Posición relativa en y (mm)')\n",
    "plt.xlabel('Posición relativa en x (mm)')\n",
    "\n",
    "plt.axis('equal')\n",
    "plt.grid(True)\n",
    "plt.plot(abs_coordinates[0], abs_coordinates[1], color='black')\n",
    "plt.scatter(abs_coordinates[0], abs_coordinates[1])\n",
    "plt.scatter(abs_coordinates[0]-com_nxt[0], abs_coordinates[1]-com_nxt[1])\n",
    "plt.scatter(traction_offset[0], traction_offset[1])\n",
    "\n",
    "maj_pos = ticker.MultipleLocator(50)\n",
    "min_pos = ticker.MultipleLocator(25)\n",
    "\n",
    "ax.xaxis.set(major_locator=maj_pos, minor_locator=min_pos)\n",
    "ax.yaxis.set(major_locator=maj_pos, minor_locator=min_pos)\n",
    "ax.grid(which='minor', linestyle=':')\n",
    "\n",
    "plt.show()"
   ]
  },
  {
   "cell_type": "code",
   "execution_count": 9,
   "metadata": {},
   "outputs": [
    {
     "name": "stdout",
     "output_type": "stream",
     "text": [
      "[[   1.            0.            1.            0.            0.\n",
      "     0.            0.            0.            0.        ]\n",
      " [   0.            1.            0.            1.            0.\n",
      "     0.            0.            0.            0.        ]\n",
      " [  -0.8450147   155.02269697    0.8450147  -155.02269697    0.\n",
      "     0.            0.            0.            1.        ]\n",
      " [   0.            0.           -1.            0.            1.\n",
      "     0.            0.            0.            0.        ]\n",
      " [   0.            0.            0.           -1.            0.\n",
      "     1.            0.            0.            0.        ]\n",
      " [   0.            0.         -123.7099755   -33.5251295   -94.55583747\n",
      "    61.09385976    0.            0.            0.        ]\n",
      " [   0.            0.            0.            0.           -1.\n",
      "     0.            1.            0.            0.        ]\n",
      " [   0.            0.            0.            0.            0.\n",
      "    -1.            0.            1.            0.        ]\n",
      " [   0.            0.            0.            0.           -4.34383649\n",
      "   131.76341795    4.34383649  131.76341795    0.        ]]\n",
      "\n",
      "[ 0.00000000e+00  9.81000000e+00  0.00000000e+00  0.00000000e+00\n",
      " -3.59120747e+02  2.45404620e+04  0.00000000e+00  9.81000000e+00\n",
      "  0.00000000e+00]\n"
     ]
    }
   ],
   "source": [
    "geo_mtx = get_geo_mtx([com_prv, com_nxt], torque_element=1)\n",
    "\n",
    "result_mtx = np.array([\n",
    "\t0.0 - masses[1]*gravity[0],\n",
    "\t0.0 - masses[1]*gravity[1],\n",
    "\t0.0,\n",
    "\t0.0 - masses[2]*gravity[0] - traction[0],\n",
    "\t0.0 - masses[2]*gravity[1] - traction[1],\n",
    "\t0.0 - e3com_traction[0]*traction[1] + e3com_traction[1]*traction[0],\n",
    "\t0.0 - masses[3]*gravity[0],\n",
    "\t0.0 - masses[3]*gravity[1],\n",
    "\t0.0,\n",
    "])\n",
    "\n",
    "print(geo_mtx)\n",
    "print()\n",
    "print(result_mtx)"
   ]
  },
  {
   "cell_type": "markdown",
   "metadata": {},
   "source": [
    "## Resultados"
   ]
  },
  {
   "cell_type": "code",
   "execution_count": 10,
   "metadata": {},
   "outputs": [
    {
     "name": "stdout",
     "output_type": "stream",
     "text": [
      "F_12x:     168.213\n",
      "F_12y:    -344.406\n",
      "F_32x:    -168.213\n",
      "F_32y:     354.216\n",
      "F_43x:    -168.213\n",
      "F_43y:      -4.905\n",
      "F_14x:    -168.213\n",
      "F_14y:       4.905\n",
      "T_b  : 108,586.474\n",
      "*El torque está en Nmm, no en Nm\n"
     ]
    }
   ],
   "source": [
    "unknowns = lag.solve(geo_mtx, result_mtx)\n",
    "labels = [\n",
    "\t'F_12x',\n",
    "\t'F_12y',\n",
    "\t'F_32x',\n",
    "\t'F_32y',\n",
    "\t'F_43x',\n",
    "\t'F_43y',\n",
    "\t'F_14x',\n",
    "\t'F_14y',\n",
    "\t'T_b',\n",
    "]\n",
    "\n",
    "for i, unknown in enumerate(unknowns):\n",
    "\tprint(f'{labels[i]:<5}:{unknown:12,.3f}')\n",
    "print('*El torque está en Nmm, no en Nm')"
   ]
  }
 ],
 "metadata": {
  "kernelspec": {
   "display_name": "Python 3",
   "language": "python",
   "name": "python3"
  },
  "language_info": {
   "codemirror_mode": {
    "name": "ipython",
    "version": 3
   },
   "file_extension": ".py",
   "mimetype": "text/x-python",
   "name": "python",
   "nbconvert_exporter": "python",
   "pygments_lexer": "ipython3",
   "version": "3.11.7"
  }
 },
 "nbformat": 4,
 "nbformat_minor": 2
}
